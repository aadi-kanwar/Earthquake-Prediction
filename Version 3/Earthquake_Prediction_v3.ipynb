{
  "cells": [
    {
      "cell_type": "code",
      "execution_count": 1,
      "metadata": {
        "colab": {
          "base_uri": "https://localhost:8080/"
        },
        "id": "0ZK-sKXsN6_Y",
        "outputId": "7b408fa5-844a-4ffc-d91d-3b78ffc3a50c"
      },
      "outputs": [
        {
          "name": "stdout",
          "output_type": "stream",
          "text": [
            "<class 'pandas.core.frame.DataFrame'>\n",
            "RangeIndex: 18030 entries, 0 to 18029\n",
            "Data columns (total 1 columns):\n",
            " #   Column                                                                                                                                              Non-Null Count  Dtype \n",
            "---  ------                                                                                                                                              --------------  ----- \n",
            " 0   Date(YYYY/MM/DD)    Time           Latitude        Longitude           Depth       Mag      Magt     Nst    Gap     Clo     RMS    SRC     EventID  18030 non-null  object\n",
            "dtypes: object(1)\n",
            "memory usage: 141.0+ KB\n"
          ]
        },
        {
          "data": {
            "text/plain": [
              "(None,\n",
              "   Date(YYYY/MM/DD)    Time           Latitude        Longitude           Depth       Mag      Magt     Nst    Gap     Clo     RMS    SRC     EventID\n",
              " 0  1966/07/01 09:41:21.82  35.9463 -120.4700  12....                                                                                                \n",
              " 1  1966/07/02 12:08:34.25  35.7867 -120.3265   8....                                                                                                \n",
              " 2  1966/07/02 12:16:14.95  35.7928 -120.3353   9....                                                                                                \n",
              " 3  1966/07/02 12:25:06.12  35.7970 -120.3282   9....                                                                                                \n",
              " 4  1966/07/05 18:54:54.36  35.9223 -120.4585   7....                                                                                                )"
            ]
          },
          "execution_count": 1,
          "metadata": {},
          "output_type": "execute_result"
        }
      ],
      "source": [
        "import pandas as pd\n",
        "\n",
        "# Load the dataset\n",
        "file_path = \"D:\\Projects\\Earthquake Prediction\\Earthquake_Data.csv\"\n",
        "df = pd.read_csv(file_path)\n",
        "\n",
        "# Display basic information and the first few rows\n",
        "df.info(), df.head()\n"
      ]
    },
    {
      "cell_type": "code",
      "execution_count": 2,
      "metadata": {
        "colab": {
          "base_uri": "https://localhost:8080/",
          "height": 206
        },
        "id": "xHHMCJHgOKlj",
        "outputId": "76e5d08d-8a2f-4a9b-df92-7382c34b09ae"
      },
      "outputs": [
        {
          "data": {
            "text/html": [
              "<div>\n",
              "<style scoped>\n",
              "    .dataframe tbody tr th:only-of-type {\n",
              "        vertical-align: middle;\n",
              "    }\n",
              "\n",
              "    .dataframe tbody tr th {\n",
              "        vertical-align: top;\n",
              "    }\n",
              "\n",
              "    .dataframe thead th {\n",
              "        text-align: right;\n",
              "    }\n",
              "</style>\n",
              "<table border=\"1\" class=\"dataframe\">\n",
              "  <thead>\n",
              "    <tr style=\"text-align: right;\">\n",
              "      <th></th>\n",
              "      <th>0</th>\n",
              "      <th>1</th>\n",
              "      <th>2</th>\n",
              "      <th>3</th>\n",
              "      <th>4</th>\n",
              "      <th>5</th>\n",
              "      <th>6</th>\n",
              "      <th>7</th>\n",
              "      <th>8</th>\n",
              "      <th>9</th>\n",
              "      <th>10</th>\n",
              "      <th>11</th>\n",
              "      <th>12</th>\n",
              "    </tr>\n",
              "  </thead>\n",
              "  <tbody>\n",
              "    <tr>\n",
              "      <th>0</th>\n",
              "      <td>1966/07/01</td>\n",
              "      <td>09:41:21.82</td>\n",
              "      <td>35.9463</td>\n",
              "      <td>-120.4700</td>\n",
              "      <td>12.26</td>\n",
              "      <td>3.20</td>\n",
              "      <td>Mx</td>\n",
              "      <td>7</td>\n",
              "      <td>171</td>\n",
              "      <td>20</td>\n",
              "      <td>0.02</td>\n",
              "      <td>NCSN</td>\n",
              "      <td>-4540462</td>\n",
              "    </tr>\n",
              "    <tr>\n",
              "      <th>1</th>\n",
              "      <td>1966/07/02</td>\n",
              "      <td>12:08:34.25</td>\n",
              "      <td>35.7867</td>\n",
              "      <td>-120.3265</td>\n",
              "      <td>8.99</td>\n",
              "      <td>3.70</td>\n",
              "      <td>Mx</td>\n",
              "      <td>8</td>\n",
              "      <td>86</td>\n",
              "      <td>3</td>\n",
              "      <td>0.04</td>\n",
              "      <td>NCSN</td>\n",
              "      <td>-4540520</td>\n",
              "    </tr>\n",
              "    <tr>\n",
              "      <th>2</th>\n",
              "      <td>1966/07/02</td>\n",
              "      <td>12:16:14.95</td>\n",
              "      <td>35.7928</td>\n",
              "      <td>-120.3353</td>\n",
              "      <td>9.88</td>\n",
              "      <td>3.40</td>\n",
              "      <td>Mx</td>\n",
              "      <td>8</td>\n",
              "      <td>89</td>\n",
              "      <td>2</td>\n",
              "      <td>0.03</td>\n",
              "      <td>NCSN</td>\n",
              "      <td>-4540521</td>\n",
              "    </tr>\n",
              "    <tr>\n",
              "      <th>3</th>\n",
              "      <td>1966/07/02</td>\n",
              "      <td>12:25:06.12</td>\n",
              "      <td>35.7970</td>\n",
              "      <td>-120.3282</td>\n",
              "      <td>9.09</td>\n",
              "      <td>3.10</td>\n",
              "      <td>Mx</td>\n",
              "      <td>8</td>\n",
              "      <td>101</td>\n",
              "      <td>3</td>\n",
              "      <td>0.08</td>\n",
              "      <td>NCSN</td>\n",
              "      <td>-4540522</td>\n",
              "    </tr>\n",
              "    <tr>\n",
              "      <th>4</th>\n",
              "      <td>1966/07/05</td>\n",
              "      <td>18:54:54.36</td>\n",
              "      <td>35.9223</td>\n",
              "      <td>-120.4585</td>\n",
              "      <td>7.86</td>\n",
              "      <td>3.10</td>\n",
              "      <td>Mx</td>\n",
              "      <td>9</td>\n",
              "      <td>161</td>\n",
              "      <td>14</td>\n",
              "      <td>0.04</td>\n",
              "      <td>NCSN</td>\n",
              "      <td>-4540594</td>\n",
              "    </tr>\n",
              "  </tbody>\n",
              "</table>\n",
              "</div>"
            ],
            "text/plain": [
              "           0            1        2          3      4     5   6  7    8   9   \\\n",
              "0  1966/07/01  09:41:21.82  35.9463  -120.4700  12.26  3.20  Mx  7  171  20   \n",
              "1  1966/07/02  12:08:34.25  35.7867  -120.3265   8.99  3.70  Mx  8   86   3   \n",
              "2  1966/07/02  12:16:14.95  35.7928  -120.3353   9.88  3.40  Mx  8   89   2   \n",
              "3  1966/07/02  12:25:06.12  35.7970  -120.3282   9.09  3.10  Mx  8  101   3   \n",
              "4  1966/07/05  18:54:54.36  35.9223  -120.4585   7.86  3.10  Mx  9  161  14   \n",
              "\n",
              "     10    11        12  \n",
              "0  0.02  NCSN  -4540462  \n",
              "1  0.04  NCSN  -4540520  \n",
              "2  0.03  NCSN  -4540521  \n",
              "3  0.08  NCSN  -4540522  \n",
              "4  0.04  NCSN  -4540594  "
            ]
          },
          "execution_count": 2,
          "metadata": {},
          "output_type": "execute_result"
        }
      ],
      "source": [
        "# Attempt to split the single column into multiple columns based on spaces\n",
        "df_cleaned = df.iloc[:, 0].str.split(r'\\s+', expand=True)\n",
        "\n",
        "# Display first few rows to check the structure\n",
        "df_cleaned.head()\n"
      ]
    },
    {
      "cell_type": "code",
      "execution_count": 3,
      "metadata": {
        "colab": {
          "base_uri": "https://localhost:8080/"
        },
        "id": "kRnOTYWSON1Q",
        "outputId": "2beb49bd-eec6-4753-f67b-aad39efeefb7"
      },
      "outputs": [
        {
          "name": "stdout",
          "output_type": "stream",
          "text": [
            "<class 'pandas.core.frame.DataFrame'>\n",
            "RangeIndex: 18030 entries, 0 to 18029\n",
            "Data columns (total 4 columns):\n",
            " #   Column     Non-Null Count  Dtype  \n",
            "---  ------     --------------  -----  \n",
            " 0   Latitude   18030 non-null  float64\n",
            " 1   Longitude  18030 non-null  float64\n",
            " 2   Nst        18030 non-null  int32  \n",
            " 3   Mag        18030 non-null  float64\n",
            "dtypes: float64(3), int32(1)\n",
            "memory usage: 493.1 KB\n"
          ]
        },
        {
          "data": {
            "text/plain": [
              "(None,\n",
              "    Latitude  Longitude  Nst  Mag\n",
              " 0   35.9463  -120.4700    7  3.2\n",
              " 1   35.7867  -120.3265    8  3.7\n",
              " 2   35.7928  -120.3353    8  3.4\n",
              " 3   35.7970  -120.3282    8  3.1\n",
              " 4   35.9223  -120.4585    9  3.1)"
            ]
          },
          "execution_count": 3,
          "metadata": {},
          "output_type": "execute_result"
        }
      ],
      "source": [
        "# Assign proper column names\n",
        "df_cleaned.columns = [\n",
        "    \"Date\", \"Time\", \"Latitude\", \"Longitude\", \"Depth\", \"Mag\", \"Magt\",\n",
        "    \"Nst\", \"Gap\", \"Clo\", \"RMS\", \"SRC\", \"EventID\"\n",
        "]\n",
        "\n",
        "# Select relevant features and target variable\n",
        "df_model = df_cleaned[[\"Latitude\", \"Longitude\", \"Nst\", \"Mag\"]]\n",
        "\n",
        "# Convert data types to numeric\n",
        "df_model = df_model.astype({\"Latitude\": float, \"Longitude\": float, \"Nst\": int, \"Mag\": float})\n",
        "\n",
        "# Display dataset info and first few rows\n",
        "df_model.info(), df_model.head()\n"
      ]
    },
    {
      "cell_type": "code",
      "execution_count": 11,
      "metadata": {
        "colab": {
          "base_uri": "https://localhost:8080/"
        },
        "id": "pHyjLIdeOPyE",
        "outputId": "6bcbbcee-4de5-4816-b52b-d81d739f7755"
      },
      "outputs": [
        {
          "data": {
            "text/plain": [
              "(0.3156525998451205, 0.42087408330380904)"
            ]
          },
          "execution_count": 11,
          "metadata": {},
          "output_type": "execute_result"
        }
      ],
      "source": [
        "import sklearn\n",
        "from sklearn.model_selection import train_test_split\n",
        "from sklearn.preprocessing import StandardScaler\n",
        "from sklearn.linear_model import LinearRegression\n",
        "from sklearn.metrics import mean_absolute_error, mean_squared_error\n",
        "\n",
        "# Define features and target variable\n",
        "X = df_model[[\"Latitude\", \"Longitude\", \"Nst\"]]\n",
        "y = df_model[\"Mag\"]\n",
        "\n",
        "# Split data into training and testing sets (80% train, 20% test)\n",
        "X_train, X_test, y_train, y_test = train_test_split(X, y, test_size=0.2, random_state=42)\n",
        "\n",
        "# Scale the features\n",
        "scaler = StandardScaler()\n",
        "X_train_scaled = scaler.fit_transform(X_train)\n",
        "X_test_scaled = scaler.transform(X_test)\n",
        "\n",
        "# Train a linear regression model\n",
        "model = LinearRegression()\n",
        "model.fit(X_train_scaled, y_train)\n",
        "\n",
        "# Make predictions\n",
        "y_pred = model.predict(X_test_scaled)\n",
        "\n",
        "# Evaluate the model\n",
        "mae = mean_absolute_error(y_test, y_pred)\n",
        "mse = mean_squared_error(y_test, y_pred)\n",
        "rmse = mse ** 0.5\n",
        "\n",
        "mae, rmse\n"
      ]
    },
    {
      "cell_type": "code",
      "execution_count": 18,
      "metadata": {
        "colab": {
          "base_uri": "https://localhost:8080/"
        },
        "id": "hIwa_A6COXTE",
        "outputId": "10b7b8ad-5021-4f81-c21e-46c5567751db"
      },
      "outputs": [
        {
          "name": "stdout",
          "output_type": "stream",
          "text": [
            "Predicted Earthquake Magnitude: 3.39\n"
          ]
        },
        {
          "name": "stderr",
          "output_type": "stream",
          "text": [
            "c:\\Users\\aadik\\anaconda3\\Lib\\site-packages\\sklearn\\base.py:464: UserWarning: X does not have valid feature names, but StandardScaler was fitted with feature names\n",
            "  warnings.warn(\n"
          ]
        }
      ],
      "source": [
        "# Function to make predictions on user input\n",
        "def predict_earthquake(latitude, longitude, nst):\n",
        "    input_data = scaler.transform([[latitude, longitude, nst]])\n",
        "    predicted_mag = model.predict(input_data)[0]\n",
        "    return round(predicted_mag, 2)\n",
        "\n",
        "# Function to take user input and predict earthquake magnitude\n",
        "def user_input_prediction():\n",
        "    try:\n",
        "        latitude = float(input(\"Enter Latitude: \"))\n",
        "        longitude = float(input(\"Enter Longitude: \"))\n",
        "        nst = int(input(\"Enter Number of Stations (Nst): \"))\n",
        "        \n",
        "        predicted_magnitude = predict_earthquake(latitude, longitude, nst)\n",
        "        print(f\"Predicted Earthquake Magnitude: {predicted_magnitude}\")\n",
        "    \n",
        "    except ValueError:\n",
        "        print(\"Invalid input! Please enter numerical values for Latitude, Longitude, and Nst.\")\n",
        "\n",
        "# Call the function to allow user input\n",
        "user_input_prediction()\n"
      ]
    },
    {
      "cell_type": "code",
      "execution_count": null,
      "metadata": {
        "id": "pY258mw5OjtS"
      },
      "outputs": [],
      "source": [
        "# import pickle\n",
        "\n",
        "# # Save the trained model\n",
        "# with open(\"earthquake_model1.pkl\", \"wb\") as model_file:\n",
        "#     pickle.dump(model, model_file)"
      ]
    },
    {
      "cell_type": "code",
      "execution_count": 19,
      "metadata": {
        "id": "7myiXfLRRz9_"
      },
      "outputs": [
        {
          "data": {
            "text/plain": [
              "['model.pkl']"
            ]
          },
          "execution_count": 19,
          "metadata": {},
          "output_type": "execute_result"
        }
      ],
      "source": [
        "import joblib\n",
        "\n",
        "joblib.dump(model, 'model.pkl')"
      ]
    },
    {
      "cell_type": "code",
      "execution_count": null,
      "metadata": {},
      "outputs": [],
      "source": []
    }
  ],
  "metadata": {
    "accelerator": "GPU",
    "colab": {
      "gpuType": "T4",
      "provenance": []
    },
    "kernelspec": {
      "display_name": "base",
      "language": "python",
      "name": "python3"
    },
    "language_info": {
      "codemirror_mode": {
        "name": "ipython",
        "version": 3
      },
      "file_extension": ".py",
      "mimetype": "text/x-python",
      "name": "python",
      "nbconvert_exporter": "python",
      "pygments_lexer": "ipython3",
      "version": "3.11.5"
    }
  },
  "nbformat": 4,
  "nbformat_minor": 0
}
